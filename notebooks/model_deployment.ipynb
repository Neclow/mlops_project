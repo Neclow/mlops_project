{
 "cells": [
  {
   "cell_type": "markdown",
   "metadata": {},
   "source": [
    "# Model deployment\n",
    "\n",
    "* We'll use ```fastapi``` and ```uvicorn``` to deploy our model\n",
    "* In a terminal, go to the root of the project, and run:\n",
    "```bash\n",
    "uvicorn mlops.fastapi.deploy:app --reload\n",
    "```\n",
    "\n",
    "The FastAPI app should now be running. We can now use ```requests``` to check the send requests to the deployed local server."
   ]
  },
  {
   "cell_type": "code",
   "execution_count": 1,
   "metadata": {},
   "outputs": [],
   "source": [
    "import requests"
   ]
  },
  {
   "cell_type": "markdown",
   "metadata": {},
   "source": [
    "## Hello world"
   ]
  },
  {
   "cell_type": "code",
   "execution_count": 2,
   "metadata": {},
   "outputs": [
    {
     "data": {
      "text/plain": [
       "'\"hello world\"'"
      ]
     },
     "execution_count": 2,
     "metadata": {},
     "output_type": "execute_result"
    }
   ],
   "source": [
    "url = \"http://127.0.0.1:8000/index\"\n",
    "\n",
    "requests.get(url).text"
   ]
  },
  {
   "cell_type": "markdown",
   "metadata": {},
   "source": [
    "## Get prediction from an audio file"
   ]
  },
  {
   "cell_type": "code",
   "execution_count": 4,
   "metadata": {},
   "outputs": [
    {
     "name": "stdout",
     "output_type": "stream",
     "text": [
      "{\"label\":\"Faroese\",\"prob\":0.9991161227226257}\n"
     ]
    }
   ],
   "source": [
    "url = \"http://127.0.0.1:8000/predict\"\n",
    "# Open the file in binary mode\n",
    "with open(\n",
    "    \"../data/nort3160/ravnursson/fo/fo/audio/test/KEY20_190821_0027.flac.wav\", \"rb\"\n",
    ") as audio_file:\n",
    "    # Send the POST request with the file\n",
    "    response = requests.post(url, files={\"file\": audio_file})\n",
    "\n",
    "print(response.text)"
   ]
  }
 ],
 "metadata": {
  "kernelspec": {
   "display_name": "audio",
   "language": "python",
   "name": "python3"
  },
  "language_info": {
   "codemirror_mode": {
    "name": "ipython",
    "version": 3
   },
   "file_extension": ".py",
   "mimetype": "text/x-python",
   "name": "python",
   "nbconvert_exporter": "python",
   "pygments_lexer": "ipython3",
   "version": "3.10.10"
  }
 },
 "nbformat": 4,
 "nbformat_minor": 2
}
