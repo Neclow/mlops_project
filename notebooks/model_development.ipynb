{
 "cells": [
  {
   "cell_type": "markdown",
   "metadata": {},
   "source": [
    "# Model development"
   ]
  },
  {
   "cell_type": "code",
   "execution_count": null,
   "metadata": {},
   "outputs": [],
   "source": [
    "import logging\n",
    "import os\n",
    "import sys\n",
    "\n",
    "sys.path.append(\"../\")  # go to parent dir\n",
    "\n",
    "from pprint import pprint\n",
    "from types import SimpleNamespace\n",
    "\n",
    "import wandb\n",
    "import torch\n",
    "\n",
    "from lightning.pytorch import seed_everything, Trainer\n",
    "from lightning.pytorch.callbacks import ModelCheckpoint, TQDMProgressBar\n",
    "from lightning.pytorch.loggers import WandbLogger\n",
    "from torch import nn\n",
    "from torch.utils.data import DataLoader\n",
    "from torchinfo import summary\n",
    "\n",
    "from core.config import (\n",
    "    BATCH_SIZE,\n",
    "    LR,\n",
    "    N_EPOCHS,\n",
    "    RANDOM_STATE,\n",
    "    SAMPLE_RATE,\n",
    "    WEIGHT_DECAY,\n",
    ")\n",
    "from core.data import load_data\n",
    "from core.downstream import LightningMLP\n",
    "from core.transforms import load_transforms\n",
    "from core.upstream import load_feature_extractor, load_processor\n",
    "\n",
    "logger = logging.getLogger(__name__)\n",
    "\n",
    "torch.set_float32_matmul_precision(\"high\")"
   ]
  },
  {
   "cell_type": "markdown",
   "metadata": {},
   "source": [
    "## Training script\n",
    "\n",
    "We will dissect the ```core.train``` script using the tiny Whisper model as an example\n",
    "\n",
    "### Parameters"
   ]
  },
  {
   "cell_type": "code",
   "execution_count": null,
   "metadata": {},
   "outputs": [
    {
     "name": "stdout",
     "output_type": "stream",
     "text": [
      "Configuration:\n",
      "\tdataset: nort3160\n",
      "\tmodel_id: whisper_tiny\n",
      "\tdtype: speech\n",
      "\tmax_duration: 10\n",
      "\ttransform: True\n",
      "\tdevice: cuda:0\n",
      "\tlr: 0.00025\n",
      "\tweight_decay: 0.001\n",
      "\tbatch_size: 64\n",
      "\tn_epochs: 3\n",
      "\tdata_dir: data\n",
      "\tcache_dir: /home/common/speech_phylo/models\n",
      "\tseed: 42\n"
     ]
    }
   ],
   "source": [
    "args = SimpleNamespace(\n",
    "    # Name of the dataset\n",
    "    dataset = \"nort3160\",\n",
    "    # Name of the backbone model\n",
    "    model_id = \"whisper_tiny\",\n",
    "    # Data type\n",
    "    dtype = \"speech\",\n",
    "    # Max audio duration\n",
    "    max_duration = 10,\n",
    "    # Whether to transform the data using Voice Activity Detection or not\n",
    "    transform = True,\n",
    "    # Device on which a torch.Tensor is or will be allocated\n",
    "    device = \"cuda:0\",\n",
    "    # Learning rate\n",
    "    lr = LR,\n",
    "    # Weight decay\n",
    "    weight_decay = WEIGHT_DECAY,\n",
    "    # Batch size\n",
    "    batch_size = BATCH_SIZE,\n",
    "    # Number of training epochs\n",
    "    n_epochs = N_EPOCHS,\n",
    "    # Path to main data folder path\n",
    "    data_dir = \"../data\", # Change that folder if needed!\n",
    "    # Path where cached models are stored\n",
    "    cache_dir = \"/home/common/speech_phylo/models\",  # Change that folder if needed!\n",
    "    # Random seed\n",
    "    seed = RANDOM_STATE\n",
    ")\n",
    "\n",
    "print(\"Configuration:\")\n",
    "for k, v in vars(args).items():\n",
    "    print(f\"\\t{k}: {v}\")\n",
    "\n",
    "if not (torch.cuda.is_available() and \"cuda\" in args.device):\n",
    "    device = \"cpu\""
   ]
  },
  {
   "cell_type": "code",
   "execution_count": 4,
   "metadata": {},
   "outputs": [
    {
     "name": "stderr",
     "output_type": "stream",
     "text": [
      "Seed set to 42\n"
     ]
    },
    {
     "data": {
      "text/plain": [
       "42"
      ]
     },
     "execution_count": 4,
     "metadata": {},
     "output_type": "execute_result"
    }
   ],
   "source": [
    "seed_everything(args.seed, workers=True)"
   ]
  },
  {
   "cell_type": "code",
   "execution_count": 5,
   "metadata": {},
   "outputs": [
    {
     "name": "stdout",
     "output_type": "stream",
     "text": [
      "Loading feature extractor...\n"
     ]
    },
    {
     "data": {
      "text/plain": [
       "====================================================================================================\n",
       "Layer (type:depth-idx)                             Output Shape              Param #\n",
       "====================================================================================================\n",
       "WhisperFeatureExtractor                            [1, 1, 384]               --\n",
       "├─Whisper: 1-1                                     --                        --\n",
       "│    └─AudioEncoder: 2-1                           --                        --\n",
       "│    │    └─Conv1d: 3-1                            [1, 384, 3000]            92,544\n",
       "│    │    └─Conv1d: 3-2                            [1, 384, 1500]            442,752\n",
       "│    │    └─ModuleList: 3-3                        --                        7,096,320\n",
       "│    │    └─LayerNorm: 3-4                         [1, 1500, 384]            768\n",
       "│    └─TextDecoder: 2-2                            --                        172,032\n",
       "│    │    └─Embedding: 3-5                         [1, 1, 384]               19,916,160\n",
       "│    │    └─ModuleList: 3-6                        --                        9,463,296\n",
       "│    │    └─LayerNorm: 3-7                         [1, 1, 384]               768\n",
       "====================================================================================================\n",
       "Total params: 37,184,640\n",
       "Trainable params: 37,184,640\n",
       "Non-trainable params: 0\n",
       "Total mult-adds (M): 978.24\n",
       "====================================================================================================\n",
       "Input size (MB): 0.06\n",
       "Forward/backward pass size (MB): 258.23\n",
       "Params size (MB): 148.05\n",
       "Estimated Total Size (MB): 406.34\n",
       "===================================================================================================="
      ]
     },
     "execution_count": 5,
     "metadata": {},
     "output_type": "execute_result"
    }
   ],
   "source": [
    "print(\"Loading feature extractor...\")\n",
    "feature_extractor = load_feature_extractor(\n",
    "    model_id=args.model_id,\n",
    "    cache_dir=args.cache_dir,\n",
    "    device=args.device,\n",
    ")\n",
    "\n",
    "summary(feature_extractor, input_size=(1, SAMPLE_RATE))"
   ]
  },
  {
   "cell_type": "code",
   "execution_count": 6,
   "metadata": {},
   "outputs": [
    {
     "name": "stdout",
     "output_type": "stream",
     "text": [
      "Preparing data...\n",
      "Loading processor...\n",
      "Dataset args:\n",
      "{'data_dir': 'data',\n",
      " 'dataset': 'nort3160',\n",
      " 'max_duration': 10,\n",
      " 'processor': <core.upstream.processing.WhisperProcessor object at 0x7faffc288dc0>,\n",
      " 'transform': Sequential(\n",
      "  (0): Vad()\n",
      "  (1): Trim()\n",
      "  (2): Pad()\n",
      ")}\n",
      "Data loader args:\n",
      "{'batch_size': 64, 'num_workers': 4, 'pin_memory': True}\n",
      "Loading data...\n",
      "Done\n"
     ]
    }
   ],
   "source": [
    "print(\"Preparing data...\")\n",
    "dataset_args = {\n",
    "    \"dataset\": args.dataset,\n",
    "    \"data_dir\": args.data_dir,\n",
    "}\n",
    "\n",
    "loader_args = {\n",
    "    \"num_workers\": 4,\n",
    "    \"batch_size\": args.batch_size,\n",
    "    \"pin_memory\": True,\n",
    "}\n",
    "\n",
    "if args.dtype == \"speech\":\n",
    "    print(\"Loading processor...\")\n",
    "    processor = load_processor(\n",
    "        model_id=args.model_id,\n",
    "        sr=SAMPLE_RATE,\n",
    "        cache_dir=args.cache_dir,\n",
    "    )\n",
    "\n",
    "    transform = load_transforms(\n",
    "        sr=SAMPLE_RATE, max_duration=args.max_duration, vad=args.transform\n",
    "    )\n",
    "\n",
    "    dataset_args = {\n",
    "        **dataset_args,\n",
    "        \"processor\": processor,\n",
    "        \"max_duration\": args.max_duration,\n",
    "        \"transform\": transform,\n",
    "    }\n",
    "else:\n",
    "    raise NotImplementedError\n",
    "\n",
    "print(\"Dataset args:\")\n",
    "pprint(dataset_args)\n",
    "print(\"Data loader args:\")\n",
    "pprint(loader_args)\n",
    "\n",
    "print(\"Loading data...\")\n",
    "train_dataset, valid_dataset, test_dataset = load_data(**dataset_args)\n",
    "train_loader = DataLoader(train_dataset, shuffle=True, **loader_args)\n",
    "valid_loader = DataLoader(valid_dataset, shuffle=False, **loader_args)\n",
    "test_loader = DataLoader(test_dataset, shuffle=False, **loader_args)\n",
    "\n",
    "print(\"Done\")"
   ]
  },
  {
   "cell_type": "code",
   "execution_count": 7,
   "metadata": {},
   "outputs": [
    {
     "name": "stdout",
     "output_type": "stream",
     "text": [
      "Preparing downstream classifier...\n"
     ]
    },
    {
     "name": "stdout",
     "output_type": "stream",
     "text": [
      "MLP(\n",
      "  (classifier): Linear(in_features=384, out_features=5, bias=True)\n",
      "  (log_softmax): LogSoftmax(dim=-1)\n",
      ")\n"
     ]
    }
   ],
   "source": [
    "print(\"Preparing downstream classifier...\")\n",
    "lit_mlp = LightningMLP(\n",
    "    feature_extractor=feature_extractor,\n",
    "    num_classes=len(train_dataset.label_encoder),\n",
    "    loss_fn=nn.NLLLoss(),\n",
    "    lr=args.lr,\n",
    "    weight_decay=args.weight_decay,\n",
    ")\n",
    "\n",
    "torch.compile(lit_mlp)\n",
    "\n",
    "print(lit_mlp.classifier)"
   ]
  },
  {
   "cell_type": "code",
   "execution_count": 8,
   "metadata": {},
   "outputs": [
    {
     "name": "stderr",
     "output_type": "stream",
     "text": [
      "\u001b[34m\u001b[1mwandb\u001b[0m: Using wandb-core as the SDK backend. Please refer to https://wandb.me/wandb-core for more information.\n",
      "\u001b[34m\u001b[1mwandb\u001b[0m: Currently logged in as: \u001b[33mneclow\u001b[0m. Use \u001b[1m`wandb login --relogin`\u001b[0m to force relogin\n"
     ]
    },
    {
     "data": {
      "text/html": [
       "Tracking run with wandb version 0.18.2"
      ],
      "text/plain": [
       "<IPython.core.display.HTML object>"
      ]
     },
     "metadata": {},
     "output_type": "display_data"
    },
    {
     "data": {
      "text/html": [
       "Run data is saved locally in <code>data/eval/wandb/run-20241028_083903-7zi2am3w</code>"
      ],
      "text/plain": [
       "<IPython.core.display.HTML object>"
      ]
     },
     "metadata": {},
     "output_type": "display_data"
    },
    {
     "data": {
      "text/html": [
       "Syncing run <strong><a href='https://wandb.ai/neclow/mlops_project_eval_nort3160/runs/7zi2am3w' target=\"_blank\">misty-dew-11</a></strong> to <a href='https://wandb.ai/neclow/mlops_project_eval_nort3160' target=\"_blank\">Weights & Biases</a> (<a href='https://wandb.me/run' target=\"_blank\">docs</a>)<br/>"
      ],
      "text/plain": [
       "<IPython.core.display.HTML object>"
      ]
     },
     "metadata": {},
     "output_type": "display_data"
    },
    {
     "data": {
      "text/html": [
       " View project at <a href='https://wandb.ai/neclow/mlops_project_eval_nort3160' target=\"_blank\">https://wandb.ai/neclow/mlops_project_eval_nort3160</a>"
      ],
      "text/plain": [
       "<IPython.core.display.HTML object>"
      ]
     },
     "metadata": {},
     "output_type": "display_data"
    },
    {
     "data": {
      "text/html": [
       " View run at <a href='https://wandb.ai/neclow/mlops_project_eval_nort3160/runs/7zi2am3w' target=\"_blank\">https://wandb.ai/neclow/mlops_project_eval_nort3160/runs/7zi2am3w</a>"
      ],
      "text/plain": [
       "<IPython.core.display.HTML object>"
      ]
     },
     "metadata": {},
     "output_type": "display_data"
    }
   ],
   "source": [
    "eval_dir = f\"{args.data_dir}/eval\"\n",
    "os.makedirs(eval_dir, exist_ok=True)\n",
    "wandb_logger = WandbLogger(\n",
    "    project=f\"mlops_project_eval_{args.dataset}\", save_dir=eval_dir\n",
    ")\n",
    "\n",
    "wandb_logger.experiment.config.update(\n",
    "    {\n",
    "        \"model_id\": args.model_id,\n",
    "        \"max_duration\": args.max_duration,\n",
    "        \"transform\": args.transform,\n",
    "    }\n",
    ")"
   ]
  },
  {
   "cell_type": "code",
   "execution_count": 9,
   "metadata": {},
   "outputs": [
    {
     "name": "stderr",
     "output_type": "stream",
     "text": [
      "GPU available: True (cuda), used: True\n",
      "TPU available: False, using: 0 TPU cores\n",
      "HPU available: False, using: 0 HPUs\n",
      "LOCAL_RANK: 0 - CUDA_VISIBLE_DEVICES: [0,1]\n",
      "\n",
      "  | Name              | Type                    | Params | Mode \n",
      "----------------------------------------------------------------------\n",
      "0 | feature_extractor | WhisperFeatureExtractor | 37.2 M | eval \n",
      "1 | classifier        | MLP                     | 1.9 K  | train\n",
      "2 | loss_fn           | NLLLoss                 | 0      | train\n",
      "3 | train_metric      | MulticlassAccuracy      | 0      | train\n",
      "4 | valid_metric      | MulticlassAccuracy      | 0      | train\n",
      "5 | test_metric       | MulticlassAccuracy      | 0      | train\n",
      "----------------------------------------------------------------------\n",
      "37.2 M    Trainable params\n",
      "0         Non-trainable params\n",
      "37.2 M    Total params\n",
      "148.746   Total estimated model params size (MB)\n",
      "7         Modules in train mode\n",
      "131       Modules in eval mode\n"
     ]
    },
    {
     "name": "stdout",
     "output_type": "stream",
     "text": [
      "Start training!\n"
     ]
    },
    {
     "data": {
      "application/vnd.jupyter.widget-view+json": {
       "model_id": "c2410cb679814c6e90d262f1f52df7b0",
       "version_major": 2,
       "version_minor": 0
      },
      "text/plain": [
       "Sanity Checking: |          | 0/? [00:00<?, ?it/s]"
      ]
     },
     "metadata": {},
     "output_type": "display_data"
    },
    {
     "data": {
      "application/vnd.jupyter.widget-view+json": {
       "model_id": "0afdd44ab89d421986c6761497567c73",
       "version_major": 2,
       "version_minor": 0
      },
      "text/plain": [
       "Training: |          | 0/? [00:00<?, ?it/s]"
      ]
     },
     "metadata": {},
     "output_type": "display_data"
    },
    {
     "data": {
      "application/vnd.jupyter.widget-view+json": {
       "model_id": "a254409ba13a41e5a241a6fa283b24e0",
       "version_major": 2,
       "version_minor": 0
      },
      "text/plain": [
       "Validation: |          | 0/? [00:00<?, ?it/s]"
      ]
     },
     "metadata": {},
     "output_type": "display_data"
    },
    {
     "data": {
      "application/vnd.jupyter.widget-view+json": {
       "model_id": "61d5289f59124fe7b9860ad94fe663d1",
       "version_major": 2,
       "version_minor": 0
      },
      "text/plain": [
       "Validation: |          | 0/? [00:00<?, ?it/s]"
      ]
     },
     "metadata": {},
     "output_type": "display_data"
    },
    {
     "data": {
      "application/vnd.jupyter.widget-view+json": {
       "model_id": "84c98b904352413c87baa9e79a60fab3",
       "version_major": 2,
       "version_minor": 0
      },
      "text/plain": [
       "Validation: |          | 0/? [00:00<?, ?it/s]"
      ]
     },
     "metadata": {},
     "output_type": "display_data"
    },
    {
     "name": "stderr",
     "output_type": "stream",
     "text": [
      "`Trainer.fit` stopped: `max_epochs=3` reached.\n"
     ]
    }
   ],
   "source": [
    "if \"cuda\" in args.device:\n",
    "    accelerator = \"gpu\"\n",
    "    devices = [int(args.device.split(\":\")[-1])]\n",
    "else:\n",
    "    accelerator = \"cpu\"\n",
    "    devices = \"auto\"\n",
    "\n",
    "print(\"Start training!\")\n",
    "trainer = Trainer(\n",
    "    accelerator=accelerator,\n",
    "    devices=devices,\n",
    "    max_epochs=args.n_epochs,\n",
    "    enable_model_summary=True,\n",
    "    callbacks=[\n",
    "        ModelCheckpoint(monitor=\"valid_loss\", mode=\"min\", save_last=True),\n",
    "        TQDMProgressBar(),\n",
    "    ],\n",
    "    logger=wandb_logger,\n",
    ")\n",
    "\n",
    "trainer.fit(\n",
    "    model=lit_mlp,\n",
    "    train_dataloaders=train_loader,\n",
    "    val_dataloaders=valid_loader,\n",
    ")"
   ]
  },
  {
   "cell_type": "code",
   "execution_count": 10,
   "metadata": {},
   "outputs": [
    {
     "name": "stderr",
     "output_type": "stream",
     "text": [
      "Restoring states from the checkpoint path at data/eval/mlops_project_eval_nort3160/7zi2am3w/checkpoints/epoch=2-step=1386.ckpt\n",
      "LOCAL_RANK: 0 - CUDA_VISIBLE_DEVICES: [0,1]\n",
      "Loaded model weights from the checkpoint at data/eval/mlops_project_eval_nort3160/7zi2am3w/checkpoints/epoch=2-step=1386.ckpt\n"
     ]
    },
    {
     "data": {
      "application/vnd.jupyter.widget-view+json": {
       "model_id": "fd3941d9de7245289239b87cc2d282a0",
       "version_major": 2,
       "version_minor": 0
      },
      "text/plain": [
       "Testing: |          | 0/? [00:00<?, ?it/s]"
      ]
     },
     "metadata": {},
     "output_type": "display_data"
    },
    {
     "data": {
      "text/html": [
       "<pre style=\"white-space:pre;overflow-x:auto;line-height:normal;font-family:Menlo,'DejaVu Sans Mono',consolas,'Courier New',monospace\">┏━━━━━━━━━━━━━━━━━━━━━━━━━━━┳━━━━━━━━━━━━━━━━━━━━━━━━━━━┓\n",
       "┃<span style=\"font-weight: bold\">        Test metric        </span>┃<span style=\"font-weight: bold\">       DataLoader 0        </span>┃\n",
       "┡━━━━━━━━━━━━━━━━━━━━━━━━━━━╇━━━━━━━━━━━━━━━━━━━━━━━━━━━┩\n",
       "│<span style=\"color: #008080; text-decoration-color: #008080\">        test_metric        </span>│<span style=\"color: #800080; text-decoration-color: #800080\">    0.8791059255599976     </span>│\n",
       "└───────────────────────────┴───────────────────────────┘\n",
       "</pre>\n"
      ],
      "text/plain": [
       "┏━━━━━━━━━━━━━━━━━━━━━━━━━━━┳━━━━━━━━━━━━━━━━━━━━━━━━━━━┓\n",
       "┃\u001b[1m \u001b[0m\u001b[1m       Test metric       \u001b[0m\u001b[1m \u001b[0m┃\u001b[1m \u001b[0m\u001b[1m      DataLoader 0       \u001b[0m\u001b[1m \u001b[0m┃\n",
       "┡━━━━━━━━━━━━━━━━━━━━━━━━━━━╇━━━━━━━━━━━━━━━━━━━━━━━━━━━┩\n",
       "│\u001b[36m \u001b[0m\u001b[36m       test_metric       \u001b[0m\u001b[36m \u001b[0m│\u001b[35m \u001b[0m\u001b[35m   0.8791059255599976    \u001b[0m\u001b[35m \u001b[0m│\n",
       "└───────────────────────────┴───────────────────────────┘\n"
      ]
     },
     "metadata": {},
     "output_type": "display_data"
    },
    {
     "data": {
      "application/vnd.jupyter.widget-view+json": {
       "model_id": "bf09e7f0113c465c88db07f64fcc1211",
       "version_major": 2,
       "version_minor": 0
      },
      "text/plain": [
       "VBox(children=(Label(value='0.011 MB of 0.011 MB uploaded\\r'), FloatProgress(value=1.0, max=1.0)))"
      ]
     },
     "metadata": {},
     "output_type": "display_data"
    },
    {
     "data": {
      "text/html": [
       "<style>\n",
       "    table.wandb td:nth-child(1) { padding: 0 10px; text-align: left ; width: auto;} td:nth-child(2) {text-align: left ; width: 100%}\n",
       "    .wandb-row { display: flex; flex-direction: row; flex-wrap: wrap; justify-content: flex-start; width: 100% }\n",
       "    .wandb-col { display: flex; flex-direction: column; flex-basis: 100%; flex: 1; padding: 10px; }\n",
       "    </style>\n",
       "<div class=\"wandb-row\"><div class=\"wandb-col\"><h3>Run history:</h3><br/><table class=\"wandb\"><tr><td>epoch</td><td>▁▁▁▁▁▁▁▁▁▁▁▃▃▃▃▃▃▃▃▃▃▃▆▆▆▆▆▆▆▆▆▆▆█</td></tr><tr><td>test_metric</td><td>▁</td></tr><tr><td>train_loss_epoch</td><td>█▂▁</td></tr><tr><td>train_loss_step</td><td>█▆▃▄▃▂▄▂▂▃▃▁▂▂▃▂▂▂▃▂▂▁▂▂▁▂▁</td></tr><tr><td>train_metric_epoch</td><td>▁▇█</td></tr><tr><td>train_metric_step</td><td>▁▄▅▄▆▆▅█▇▆▆█▆▇▆▇▇▆▇▇▆▇▇▇█▅█</td></tr><tr><td>trainer/global_step</td><td>▁▁▂▂▂▂▃▃▃▃▃▃▄▄▄▄▅▅▅▅▆▆▆▆▆▆▇▇▇█████</td></tr><tr><td>valid_loss</td><td>█▄▁</td></tr><tr><td>valid_metric</td><td>▁▂█</td></tr></table><br/></div><div class=\"wandb-col\"><h3>Run summary:</h3><br/><table class=\"wandb\"><tr><td>epoch</td><td>3</td></tr><tr><td>test_metric</td><td>0.87911</td></tr><tr><td>train_loss_epoch</td><td>0.25082</td></tr><tr><td>train_loss_step</td><td>0.12757</td></tr><tr><td>train_metric_epoch</td><td>0.90983</td></tr><tr><td>train_metric_step</td><td>0.95312</td></tr><tr><td>trainer/global_step</td><td>1386</td></tr><tr><td>valid_loss</td><td>0.39403</td></tr><tr><td>valid_metric</td><td>0.86456</td></tr></table><br/></div></div>"
      ],
      "text/plain": [
       "<IPython.core.display.HTML object>"
      ]
     },
     "metadata": {},
     "output_type": "display_data"
    },
    {
     "data": {
      "text/html": [
       " View run <strong style=\"color:#cdcd00\">misty-dew-11</strong> at: <a href='https://wandb.ai/neclow/mlops_project_eval_nort3160/runs/7zi2am3w' target=\"_blank\">https://wandb.ai/neclow/mlops_project_eval_nort3160/runs/7zi2am3w</a><br/> View project at: <a href='https://wandb.ai/neclow/mlops_project_eval_nort3160' target=\"_blank\">https://wandb.ai/neclow/mlops_project_eval_nort3160</a><br/>Synced 5 W&B file(s), 0 media file(s), 0 artifact file(s) and 0 other file(s)"
      ],
      "text/plain": [
       "<IPython.core.display.HTML object>"
      ]
     },
     "metadata": {},
     "output_type": "display_data"
    },
    {
     "data": {
      "text/html": [
       "Find logs at: <code>data/eval/wandb/run-20241028_083903-7zi2am3w/logs</code>"
      ],
      "text/plain": [
       "<IPython.core.display.HTML object>"
      ]
     },
     "metadata": {},
     "output_type": "display_data"
    }
   ],
   "source": [
    "trainer.test(\n",
    "    model=lit_mlp,\n",
    "    dataloaders=test_loader,\n",
    "    ckpt_path=\"best\",\n",
    ")\n",
    "\n",
    "wandb.finish()"
   ]
  },
  {
   "cell_type": "markdown",
   "metadata": {},
   "source": [
    "## Tracking and versioning"
   ]
  },
  {
   "cell_type": "code",
   "execution_count": 151,
   "metadata": {},
   "outputs": [],
   "source": [
    "import json\n",
    "import os\n",
    "import sys\n",
    "\n",
    "sys.path.append(\"../\")  # go to parent dir\n",
    "\n",
    "import matplotlib.pyplot as plt\n",
    "import pandas as pd\n",
    "import seaborn as sns\n",
    "import torch\n",
    "import wandb\n",
    "\n",
    "from torch.utils.flop_counter import FlopCounterMode\n",
    "from tqdm import tqdm\n",
    "\n",
    "from core.downstream import LightningMLP\n",
    "from core.upstream import load_feature_extractor\n",
    "\n",
    "\n",
    "def get_total_flops(model_id):\n",
    "    \"\"\"Get FLOPs required for 1 second of audio\"\"\"\n",
    "    flop_counter = FlopCounterMode(display=False)\n",
    "\n",
    "    fe = load_feature_extractor(\n",
    "        model_id, cache_dir=\"/home/common/speech_phylo/models\", device=\"cpu\"\n",
    "    )\n",
    "\n",
    "    with flop_counter:\n",
    "        fe(torch.rand(1, 16000))\n",
    "\n",
    "    return flop_counter.get_total_flops()"
   ]
  },
  {
   "cell_type": "markdown",
   "metadata": {},
   "source": [
    "### Logging metrics\n",
    "\n",
    "Note: A run's system metrics might not be correct if multiple processes were run concurrently to it. See https://docs.wandb.ai/guides/app/features/system-metrics/"
   ]
  },
  {
   "cell_type": "code",
   "execution_count": 2,
   "metadata": {},
   "outputs": [],
   "source": [
    "api = wandb.Api()\n",
    "entity = \"neclow\"\n",
    "\n",
    "project = \"mlops_project_eval_nort3160\"\n",
    "\n",
    "runs = api.runs(f\"{entity}/{project}\")"
   ]
  },
  {
   "cell_type": "code",
   "execution_count": 19,
   "metadata": {},
   "outputs": [
    {
     "name": "stderr",
     "output_type": "stream",
     "text": [
      "100%|██████████| 6/6 [00:05<00:00,  1.12it/s]\n"
     ]
    },
    {
     "data": {
      "text/html": [
       "<div>\n",
       "<style scoped>\n",
       "    .dataframe tbody tr th:only-of-type {\n",
       "        vertical-align: middle;\n",
       "    }\n",
       "\n",
       "    .dataframe tbody tr th {\n",
       "        vertical-align: top;\n",
       "    }\n",
       "\n",
       "    .dataframe thead th {\n",
       "        text-align: right;\n",
       "    }\n",
       "</style>\n",
       "<table border=\"1\" class=\"dataframe\">\n",
       "  <thead>\n",
       "    <tr style=\"text-align: right;\">\n",
       "      <th></th>\n",
       "      <th>run_id</th>\n",
       "      <th>name</th>\n",
       "      <th>model_id</th>\n",
       "      <th>test_accuracy</th>\n",
       "      <th>runtime</th>\n",
       "      <th>gpu_memory</th>\n",
       "      <th>flops_per_sec</th>\n",
       "    </tr>\n",
       "  </thead>\n",
       "  <tbody>\n",
       "    <tr>\n",
       "      <th>2</th>\n",
       "      <td>igyrfwxv</td>\n",
       "      <td>daily-music-9</td>\n",
       "      <td>facebook/wav2vec2-xls-r-300m</td>\n",
       "      <td>97.7</td>\n",
       "      <td>150114.3</td>\n",
       "      <td>46.6</td>\n",
       "      <td>35.6</td>\n",
       "    </tr>\n",
       "    <tr>\n",
       "      <th>1</th>\n",
       "      <td>16ryf90y</td>\n",
       "      <td>worthy-elevator-7</td>\n",
       "      <td>facebook/mms-lid-126</td>\n",
       "      <td>97.5</td>\n",
       "      <td>279173.9</td>\n",
       "      <td>36.6</td>\n",
       "      <td>99.5</td>\n",
       "    </tr>\n",
       "    <tr>\n",
       "      <th>0</th>\n",
       "      <td>cnidpi03</td>\n",
       "      <td>stilted-bird-5</td>\n",
       "      <td>NeMo_ambernet</td>\n",
       "      <td>92.5</td>\n",
       "      <td>70352.5</td>\n",
       "      <td>18.6</td>\n",
       "      <td>5.0</td>\n",
       "    </tr>\n",
       "    <tr>\n",
       "      <th>4</th>\n",
       "      <td>znd36c9w</td>\n",
       "      <td>apricot-capybara-13</td>\n",
       "      <td>whisper_base</td>\n",
       "      <td>91.2</td>\n",
       "      <td>123030.1</td>\n",
       "      <td>7.8</td>\n",
       "      <td>97.0</td>\n",
       "    </tr>\n",
       "    <tr>\n",
       "      <th>3</th>\n",
       "      <td>d8a1buho</td>\n",
       "      <td>glowing-breeze-10</td>\n",
       "      <td>speechbrain/lang-id-voxlingua107-ecapa</td>\n",
       "      <td>90.0</td>\n",
       "      <td>86353.9</td>\n",
       "      <td>50.5</td>\n",
       "      <td>3.8</td>\n",
       "    </tr>\n",
       "    <tr>\n",
       "      <th>5</th>\n",
       "      <td>7zi2am3w</td>\n",
       "      <td>misty-dew-11</td>\n",
       "      <td>whisper_tiny</td>\n",
       "      <td>87.9</td>\n",
       "      <td>123885.5</td>\n",
       "      <td>5.0</td>\n",
       "      <td>40.6</td>\n",
       "    </tr>\n",
       "  </tbody>\n",
       "</table>\n",
       "</div>"
      ],
      "text/plain": [
       "     run_id                 name                                model_id  \\\n",
       "2  igyrfwxv        daily-music-9            facebook/wav2vec2-xls-r-300m   \n",
       "1  16ryf90y    worthy-elevator-7                    facebook/mms-lid-126   \n",
       "0  cnidpi03       stilted-bird-5                           NeMo_ambernet   \n",
       "4  znd36c9w  apricot-capybara-13                            whisper_base   \n",
       "3  d8a1buho    glowing-breeze-10  speechbrain/lang-id-voxlingua107-ecapa   \n",
       "5  7zi2am3w         misty-dew-11                            whisper_tiny   \n",
       "\n",
       "   test_accuracy   runtime  gpu_memory  flops_per_sec  \n",
       "2           97.7  150114.3        46.6           35.6  \n",
       "1           97.5  279173.9        36.6           99.5  \n",
       "0           92.5   70352.5        18.6            5.0  \n",
       "4           91.2  123030.1         7.8           97.0  \n",
       "3           90.0   86353.9        50.5            3.8  \n",
       "5           87.9  123885.5         5.0           40.6  "
      ]
     },
     "execution_count": 19,
     "metadata": {},
     "output_type": "execute_result"
    }
   ],
   "source": [
    "# Initialize an empty list to store run data\n",
    "run_data = []\n",
    "\n",
    "# Loop over each run and get summary info, config, etc.\n",
    "for run in tqdm(runs):\n",
    "    # https://docs.wandb.ai/guides/app/features/system-metrics/\n",
    "    system_metrics = run.history(stream=\"systemMetrics\").mean()\n",
    "    run_config = json.loads(run.json_config)\n",
    "    model_id = run_config[\"model_id\"][\"value\"]\n",
    "    # Extract run details\n",
    "    run_info = {\n",
    "        \"run_id\": run.id.strip(),\n",
    "        \"name\": run.name,\n",
    "        \"model_id\": model_id,\n",
    "        \"test_accuracy\": run.summary.get(\"test_metric\") * 100,\n",
    "        \"runtime\": run.summary.get(\"_runtime\") * 60,\n",
    "        \"gpu_memory\": (\n",
    "            system_metrics[\"system.gpu.0.memoryAllocatedBytes\"]\n",
    "            + system_metrics[\"system.gpu.1.memoryAllocatedBytes\"]\n",
    "        )\n",
    "        / 1e9,\n",
    "        \"flops_per_sec\": get_total_flops(model_id) / 1e9,\n",
    "    }\n",
    "\n",
    "    # Append run info to the list\n",
    "    run_data.append(run_info)\n",
    "\n",
    "run_df = pd.DataFrame(run_data).sort_values(by=\"test_accuracy\", ascending=False)\n",
    "\n",
    "run_df.round(1)"
   ]
  },
  {
   "cell_type": "code",
   "execution_count": 20,
   "metadata": {},
   "outputs": [],
   "source": [
    "run_df.to_csv(\"../data/stats/metrics.csv\")"
   ]
  },
  {
   "cell_type": "markdown",
   "metadata": {},
   "source": [
    "### Logging plot curves\n",
    "\n",
    "W&B helps logging/tracking progress through training. We will show an example for ```daily-music-9``` (XLS-R LID)"
   ]
  },
  {
   "cell_type": "code",
   "execution_count": 109,
   "metadata": {},
   "outputs": [
    {
     "data": {
      "text/html": [
       "<div>\n",
       "<style scoped>\n",
       "    .dataframe tbody tr th:only-of-type {\n",
       "        vertical-align: middle;\n",
       "    }\n",
       "\n",
       "    .dataframe tbody tr th {\n",
       "        vertical-align: top;\n",
       "    }\n",
       "\n",
       "    .dataframe thead th {\n",
       "        text-align: right;\n",
       "    }\n",
       "</style>\n",
       "<table border=\"1\" class=\"dataframe\">\n",
       "  <thead>\n",
       "    <tr style=\"text-align: right;\">\n",
       "      <th></th>\n",
       "      <th>train_metric_epoch</th>\n",
       "      <th>trainer/global_step</th>\n",
       "      <th>valid_metric</th>\n",
       "      <th>train_loss_step</th>\n",
       "      <th>_step</th>\n",
       "      <th>epoch</th>\n",
       "      <th>_timestamp</th>\n",
       "      <th>train_loss_epoch</th>\n",
       "      <th>train_metric_step</th>\n",
       "      <th>_runtime</th>\n",
       "      <th>test_metric</th>\n",
       "      <th>valid_loss</th>\n",
       "    </tr>\n",
       "  </thead>\n",
       "  <tbody>\n",
       "    <tr>\n",
       "      <th>0</th>\n",
       "      <td>NaN</td>\n",
       "      <td>49</td>\n",
       "      <td>NaN</td>\n",
       "      <td>0.785751</td>\n",
       "      <td>0</td>\n",
       "      <td>0</td>\n",
       "      <td>1.730025e+09</td>\n",
       "      <td>NaN</td>\n",
       "      <td>0.921875</td>\n",
       "      <td>50.430782</td>\n",
       "      <td>NaN</td>\n",
       "      <td>NaN</td>\n",
       "    </tr>\n",
       "    <tr>\n",
       "      <th>1</th>\n",
       "      <td>NaN</td>\n",
       "      <td>99</td>\n",
       "      <td>NaN</td>\n",
       "      <td>0.453441</td>\n",
       "      <td>1</td>\n",
       "      <td>0</td>\n",
       "      <td>1.730025e+09</td>\n",
       "      <td>NaN</td>\n",
       "      <td>0.953125</td>\n",
       "      <td>112.701345</td>\n",
       "      <td>NaN</td>\n",
       "      <td>NaN</td>\n",
       "    </tr>\n",
       "    <tr>\n",
       "      <th>2</th>\n",
       "      <td>NaN</td>\n",
       "      <td>149</td>\n",
       "      <td>NaN</td>\n",
       "      <td>0.275189</td>\n",
       "      <td>2</td>\n",
       "      <td>0</td>\n",
       "      <td>1.730025e+09</td>\n",
       "      <td>NaN</td>\n",
       "      <td>0.984375</td>\n",
       "      <td>184.020535</td>\n",
       "      <td>NaN</td>\n",
       "      <td>NaN</td>\n",
       "    </tr>\n",
       "    <tr>\n",
       "      <th>3</th>\n",
       "      <td>NaN</td>\n",
       "      <td>199</td>\n",
       "      <td>NaN</td>\n",
       "      <td>0.282719</td>\n",
       "      <td>3</td>\n",
       "      <td>0</td>\n",
       "      <td>1.730025e+09</td>\n",
       "      <td>NaN</td>\n",
       "      <td>1.000000</td>\n",
       "      <td>255.278928</td>\n",
       "      <td>NaN</td>\n",
       "      <td>NaN</td>\n",
       "    </tr>\n",
       "    <tr>\n",
       "      <th>4</th>\n",
       "      <td>NaN</td>\n",
       "      <td>249</td>\n",
       "      <td>NaN</td>\n",
       "      <td>0.275656</td>\n",
       "      <td>4</td>\n",
       "      <td>0</td>\n",
       "      <td>1.730025e+09</td>\n",
       "      <td>NaN</td>\n",
       "      <td>0.968750</td>\n",
       "      <td>326.378460</td>\n",
       "      <td>NaN</td>\n",
       "      <td>NaN</td>\n",
       "    </tr>\n",
       "  </tbody>\n",
       "</table>\n",
       "</div>"
      ],
      "text/plain": [
       "   train_metric_epoch  trainer/global_step  valid_metric  train_loss_step  \\\n",
       "0                 NaN                   49           NaN         0.785751   \n",
       "1                 NaN                   99           NaN         0.453441   \n",
       "2                 NaN                  149           NaN         0.275189   \n",
       "3                 NaN                  199           NaN         0.282719   \n",
       "4                 NaN                  249           NaN         0.275656   \n",
       "\n",
       "   _step  epoch    _timestamp  train_loss_epoch  train_metric_step  \\\n",
       "0      0      0  1.730025e+09               NaN           0.921875   \n",
       "1      1      0  1.730025e+09               NaN           0.953125   \n",
       "2      2      0  1.730025e+09               NaN           0.984375   \n",
       "3      3      0  1.730025e+09               NaN           1.000000   \n",
       "4      4      0  1.730025e+09               NaN           0.968750   \n",
       "\n",
       "     _runtime  test_metric  valid_loss  \n",
       "0   50.430782          NaN         NaN  \n",
       "1  112.701345          NaN         NaN  \n",
       "2  184.020535          NaN         NaN  \n",
       "3  255.278928          NaN         NaN  \n",
       "4  326.378460          NaN         NaN  "
      ]
     },
     "execution_count": 109,
     "metadata": {},
     "output_type": "execute_result"
    }
   ],
   "source": [
    "run_id = \"igyrfwxv\"\n",
    "\n",
    "run = api.run(f\"neclow/mlops_project_eval_nort3160/{run_id}\")\n",
    "\n",
    "run_history = run.history()\n",
    "\n",
    "run_history.head()"
   ]
  },
  {
   "cell_type": "code",
   "execution_count": 79,
   "metadata": {},
   "outputs": [
    {
     "data": {
      "image/png": "[encoded data removed]",
      "text/plain": [
       "<Figure size 640x480 with 2 Axes>"
      ]
     },
     "metadata": {},
     "output_type": "display_data"
    }
   ],
   "source": [
    "fig, axs = plt.subplots(1, 2)\n",
    "\n",
    "plot_args = dict(linestyle=\"dashed\", linewidth=1, style='.-', markersize=5)\n",
    "\n",
    "run_history.plot(x=\"_step\", y=\"train_loss_step\", color=\"k\", label=\"Train\", ax=axs[0], **plot_args)\n",
    "run_history.plot(\n",
    "    x=\"_step\",\n",
    "    y=\"valid_loss\",\n",
    "    color=\"r\",\n",
    "    label=\"Validation\",\n",
    "    ax=axs[0],\n",
    "    **plot_args\n",
    ")\n",
    "axs[0].set_ylabel(\"Loss\")\n",
    "axs[0].set_xlabel(\"Step\")\n",
    "\n",
    "run_history.plot(\n",
    "    x=\"_step\",\n",
    "    y=\"train_metric_step\",\n",
    "    color=\"k\",\n",
    "    label=\"Train\",\n",
    "    ax=axs[1],\n",
    "    **plot_args,\n",
    ")\n",
    "run_history.plot(\n",
    "    x=\"_step\",\n",
    "    y=\"valid_metric\",\n",
    "    color=\"r\",\n",
    "    label=\"Validation\",\n",
    "    ax=axs[1],\n",
    "    **plot_args,\n",
    ")\n",
    "run_history.plot(\n",
    "    x=\"_step\",\n",
    "    y=\"test_metric\",\n",
    "    color=\"orange\",\n",
    "    label=\"Test\",\n",
    "    ax=axs[1],\n",
    "    **plot_args,\n",
    ")\n",
    "axs[1].set_ylabel(\"Accuracy\")\n",
    "axs[1].set_xlabel(\"Step\")\n",
    "axs[1].set_ylim(0.8, 1)\n",
    "\n",
    "sns.despine()\n",
    "fig.tight_layout()\n",
    "plt.show()"
   ]
  },
  {
   "cell_type": "markdown",
   "metadata": {},
   "source": [
    "We can also retrieve the logs that were printed out to the terminal"
   ]
  },
  {
   "cell_type": "code",
   "execution_count": 108,
   "metadata": {},
   "outputs": [
    {
     "data": {
      "text/plain": [
       "['Start evaluation!',\n",
       " 'GPU available: True (cuda), used: True',\n",
       " 'TPU available: False, using: 0 TPU cores',\n",
       " 'HPU available: False, using: 0 HPUs',\n",
       " 'LOCAL_RANK: 0 - CUDA_VISIBLE_DEVICES: [0,1]',\n",
       " '',\n",
       " '  | Name              | Type                        | Params | Mode',\n",
       " '--------------------------------------------------------------------------',\n",
       " '0 | feature_extractor | HuggingfaceFeatureExtractor | 315 M  | eval',\n",
       " '1 | classifier        | MLP                         | 5.1 K  | train',\n",
       " '2 | loss_fn           | NLLLoss                     | 0      | train',\n",
       " '3 | train_metric      | MulticlassAccuracy          | 0      | train',\n",
       " '4 | valid_metric      | MulticlassAccuracy          | 0      | train',\n",
       " '5 | test_metric       | MulticlassAccuracy          | 0      | train',\n",
       " '--------------------------------------------------------------------------',\n",
       " '311 M     Trainable params',\n",
       " '4.2 M     Non-trainable params',\n",
       " '315 M     Total params',\n",
       " '1,261.775 Total estimated model params size (MB)',\n",
       " '7         Modules in train mode',\n",
       " '407       Modules in eval mode',\n",
       " 'Epoch 2: 100%|██████████████████████████████████████| 462/462 [10:00<00:00,  0.77it/s, v_num=fwxv, train_loss_step=0.0297, train_metric_step=1.000, valid_loss=0.0882, valid_metric=0.980, train_loss_epoch=0.0684, train_metric_epoch=0.986]',\n",
       " 'Testing DataLoader 0: 100%|████████████████████████████████████████████████████████████████████████████████████████████████████████████████████████████████████████████████████████████████████████████████| 207/207 [03:10<00:00,  1.09it/s]',\n",
       " '`Trainer.fit` stopped: `max_epochs=3` reached.',\n",
       " 'Restoring states from the checkpoint path at data/eval/mlops_project_eval_nort3160/igyrfwxv/checkpoints/epoch=2-step=1386.ckpt',\n",
       " 'LOCAL_RANK: 0 - CUDA_VISIBLE_DEVICES: [0,1]',\n",
       " 'Loaded model weights from the checkpoint at data/eval/mlops_project_eval_nort3160/igyrfwxv/checkpoints/epoch=2-step=1386.ckpt',\n",
       " '┏━━━━━━━━━━━━━━━━━━━━━━━━━━━┳━━━━━━━━━━━━━━━━━━━━━━━━━━━┓',\n",
       " '┃\\x1b[1m \\x1b[0m\\x1b[1m       Test metric       \\x1b[0m\\x1b[1m \\x1b[0m┃\\x1b[1m \\x1b[0m\\x1b[1m      DataLoader 0       \\x1b[0m\\x1b[1m \\x1b[0m┃',\n",
       " '┡━━━━━━━━━━━━━━━━━━━━━━━━━━━╇━━━━━━━━━━━━━━━━━━━━━━━━━━━┩',\n",
       " '│\\x1b[36m \\x1b[0m\\x1b[36m       test_metric       \\x1b[0m\\x1b[36m \\x1b[0m│\\x1b[35m \\x1b[0m\\x1b[35m   0.9767424464225769    \\x1b[0m\\x1b[35m \\x1b[0m│',\n",
       " '└───────────────────────────┴───────────────────────────┘']"
      ]
     },
     "execution_count": 108,
     "metadata": {},
     "output_type": "execute_result"
    }
   ],
   "source": [
    "logs = run.file(\"output.log\").download(exist_ok=True).read().splitlines()\n",
    "\n",
    "logs"
   ]
  },
  {
   "cell_type": "markdown",
   "metadata": {},
   "source": [
    "### Model versioning\n",
    "\n",
    "Model versioning is especially easy when the project is linked to Git, as W&B saves the git state and the commmand that was used to run the model.\n",
    "\n",
    "For instance, the XLS-R model in Table 1 (see report) can be re-trained using the following:\n",
    "\n",
    "```bash\n",
    "git clone https://github.com/Neclow/mlops_project.git\n",
    "git checkout -b \"daily-music-9\" ad179f780c71e76f571a74cc0120aa20daf2b854\n",
    "python -m core.eval nort3160 facebook/wav2vec2-xls-r-300m speech --transform --device cuda:0 --max-duration 10\n",
    "```"
   ]
  },
  {
   "cell_type": "markdown",
   "metadata": {},
   "source": [
    "W&B also saves a snapshot of the environment that was used to perform the run. It can be retrieved using ```wandb.file```"
   ]
  },
  {
   "cell_type": "code",
   "execution_count": 106,
   "metadata": {},
   "outputs": [
    {
     "data": {
      "text/plain": [
       "['Brotli==1.1.0',\n",
       " 'ConfigArgParse==1.7',\n",
       " 'Cython==3.0.11',\n",
       " 'Distance==0.1.3',\n",
       " 'Django==4.2.15',\n",
       " 'GitPython==3.1.43',\n",
       " 'HyperPyYAML==1.2.2',\n",
       " 'Jinja2==3.1.4',\n",
       " 'Levenshtein==0.26.0',\n",
       " 'Markdown==3.7']"
      ]
     },
     "execution_count": 106,
     "metadata": {},
     "output_type": "execute_result"
    }
   ],
   "source": [
    "requirements = run.file(\"requirements.txt\").download(exist_ok=True).read().splitlines()\n",
    "\n",
    "sorted(requirements)[:10]"
   ]
  },
  {
   "cell_type": "markdown",
   "metadata": {},
   "source": [
    "### Retrieving artefacts\n",
    "\n",
    "One can easily log model artifacts in the W&B cloud by setting ```log_model = True``` in ```WandbLogger```. For simplicity, we will log the checkpoint saved locally to restore our model."
   ]
  },
  {
   "cell_type": "code",
   "execution_count": 158,
   "metadata": {},
   "outputs": [
    {
     "data": {
      "text/plain": [
       "{'epoch': 2,\n",
       " 'global_step': 1386,\n",
       " 'pytorch-lightning_version': '2.4.0',\n",
       " 'loops': {'fit_loop': {'state_dict': {},\n",
       "   'epoch_loop.state_dict': {'_batches_that_stepped': 1386},\n",
       "   'epoch_loop.batch_progress': {'total': {'ready': 1386,\n",
       "     'completed': 1386,\n",
       "     'started': 1386,\n",
       "     'processed': 1386},\n",
       "    'current': {'ready': 462,\n",
       "     'completed': 462,\n",
       "     'started': 462,\n",
       "     'processed': 462},\n",
       "    'is_last_batch': True},\n",
       "   'epoch_loop.scheduler_progress': {'total': {'ready': 0, 'completed': 0},\n",
       "    'current': {'ready': 0, 'completed': 0}},\n",
       "   'epoch_loop.automatic_optimization.state_dict': {},\n",
       "   'epoch_loop.automatic_optimization.optim_progress': {'optimizer': {'step': {'total': {'ready': 1386,\n",
       "       'completed': 1386},\n",
       "      'current': {'ready': 462, 'completed': 462}},\n",
       "     'zero_grad': {'total': {'ready': 1386,\n",
       "       'completed': 1386,\n",
       "       'started': 1386},\n",
       "      'current': {'ready': 462, 'completed': 462, 'started': 462}}}},\n",
       "   'epoch_loop.manual_optimization.state_dict': {},\n",
       "   'epoch_loop.manual_optimization.optim_step_progress': {'total': {'ready': 0,\n",
       "     'completed': 0},\n",
       "    'current': {'ready': 0, 'completed': 0}},\n",
       "   'epoch_loop.val_loop.state_dict': {},\n",
       "   'epoch_loop.val_loop.batch_progress': {'total': {'ready': 186,\n",
       "     'completed': 186,\n",
       "     'started': 186,\n",
       "     'processed': 186},\n",
       "    'current': {'ready': 186,\n",
       "     'completed': 186,\n",
       "     'started': 186,\n",
       "     'processed': 186},\n",
       "    'is_last_batch': True},\n",
       "   'epoch_progress': {'total': {'ready': 3,\n",
       "     'completed': 2,\n",
       "     'started': 3,\n",
       "     'processed': 3},\n",
       "    'current': {'ready': 3, 'completed': 2, 'started': 3, 'processed': 3}}},\n",
       "  'validate_loop': {'state_dict': {},\n",
       "   'batch_progress': {'total': {'ready': 0,\n",
       "     'completed': 0,\n",
       "     'started': 0,\n",
       "     'processed': 0},\n",
       "    'current': {'ready': 0, 'completed': 0, 'started': 0, 'processed': 0},\n",
       "    'is_last_batch': False}},\n",
       "  'test_loop': {'state_dict': {},\n",
       "   'batch_progress': {'total': {'ready': 0,\n",
       "     'completed': 0,\n",
       "     'started': 0,\n",
       "     'processed': 0},\n",
       "    'current': {'ready': 0, 'completed': 0, 'started': 0, 'processed': 0},\n",
       "    'is_last_batch': False}},\n",
       "  'predict_loop': {'state_dict': {},\n",
       "   'batch_progress': {'total': {'ready': 0,\n",
       "     'completed': 0,\n",
       "     'started': 0,\n",
       "     'processed': 0},\n",
       "    'current': {'ready': 0, 'completed': 0, 'started': 0, 'processed': 0}}}},\n",
       " 'callbacks': {\"ModelCheckpoint{'monitor': 'valid_loss', 'mode': 'min', 'every_n_train_steps': 0, 'every_n_epochs': 1, 'train_time_interval': None}\": {'monitor': 'valid_loss',\n",
       "   'best_model_score': tensor(0.0882, device='cuda:0'),\n",
       "   'best_model_path': 'data/eval/mlops_project_eval_nort3160/igyrfwxv/checkpoints/epoch=2-step=1386.ckpt',\n",
       "   'current_score': tensor(0.0882, device='cuda:0'),\n",
       "   'dirpath': 'data/eval/mlops_project_eval_nort3160/igyrfwxv/checkpoints',\n",
       "   'best_k_models': {'data/eval/mlops_project_eval_nort3160/igyrfwxv/checkpoints/epoch=2-step=1386.ckpt': tensor(0.0882, device='cuda:0')},\n",
       "   'kth_best_model_path': 'data/eval/mlops_project_eval_nort3160/igyrfwxv/checkpoints/epoch=2-step=1386.ckpt',\n",
       "   'kth_value': tensor(0.0882, device='cuda:0'),\n",
       "   'last_model_path': 'data/eval/mlops_project_eval_nort3160/igyrfwxv/checkpoints/last.ckpt'}},\n",
       " 'lr_schedulers': [],\n",
       " 'hparams_name': 'kwargs',\n",
       " 'hyper_parameters': {'num_classes': 5,\n",
       "  'loss_fn': NLLLoss(),\n",
       "  'lr': 0.00025,\n",
       "  'weight_decay': 0.001}}"
      ]
     },
     "execution_count": 158,
     "metadata": {},
     "output_type": "execute_result"
    }
   ],
   "source": [
    "# See core.train.py\n",
    "eval_dir = \"../data/eval\"\n",
    "project = \"mlops_project_eval_nort3160\"\n",
    "save_dir = f\"{eval_dir}/{project}\"\n",
    "\n",
    "ckpt = torch.load(f\"{save_dir}/{run_id}/checkpoints/last.ckpt\")\n",
    "\n",
    "{k: v for (k, v) in ckpt.items() if not k in [\"state_dict\", \"optimizer_states\"]}"
   ]
  },
  {
   "cell_type": "code",
   "execution_count": 155,
   "metadata": {},
   "outputs": [
    {
     "data": {
      "text/plain": [
       "<All keys matched successfully>"
      ]
     },
     "execution_count": 155,
     "metadata": {},
     "output_type": "execute_result"
    }
   ],
   "source": [
    "state_dict = ckpt[\"state_dict\"]\n",
    "\n",
    "my_cache_dir = \"/home/common/speech_phylo/models\"\n",
    "\n",
    "if not os.path.isdir(my_cache_dir):\n",
    "    my_cache_dir = None  # Or enter your cache dir here\n",
    "\n",
    "feature_extractor = load_feature_extractor(\n",
    "    run.config[\"model_id\"], cache_dir=my_cache_dir, device=\"cuda:0\"\n",
    ")\n",
    "\n",
    "lit_mlp = LightningMLP(\n",
    "    feature_extractor=feature_extractor,\n",
    "    num_classes=ckpt[\"hyper_parameters\"][\"num_classes\"],\n",
    "    loss_fn=ckpt[\"hyper_parameters\"][\"loss_fn\"],\n",
    "    lr=ckpt[\"hyper_parameters\"][\"lr\"],\n",
    "    weight_decay=ckpt[\"hyper_parameters\"][\"weight_decay\"],\n",
    ")\n",
    "\n",
    "# We have restored our model\n",
    "lit_mlp.load_state_dict(state_dict)"
   ]
  }
 ],
 "metadata": {
  "kernelspec": {
   "display_name": "audio",
   "language": "python",
   "name": "python3"
  },
  "language_info": {
   "codemirror_mode": {
    "name": "ipython",
    "version": 3
   },
   "file_extension": ".py",
   "mimetype": "text/x-python",
   "name": "python",
   "nbconvert_exporter": "python",
   "pygments_lexer": "ipython3",
   "version": "3.10.10"
  }
 },
 "nbformat": 4,
 "nbformat_minor": 2
}
